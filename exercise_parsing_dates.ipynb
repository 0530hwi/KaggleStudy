{
  "nbformat": 4,
  "nbformat_minor": 0,
  "metadata": {
    "kernelspec": {
      "language": "python",
      "display_name": "Python 3",
      "name": "python3"
    },
    "language_info": {
      "name": "python",
      "version": "3.7.10",
      "mimetype": "text/x-python",
      "codemirror_mode": {
        "name": "ipython",
        "version": 3
      },
      "pygments_lexer": "ipython3",
      "nbconvert_exporter": "python",
      "file_extension": ".py"
    },
    "colab": {
      "name": "exercise-parsing-dates.ipynb",
      "provenance": [],
      "include_colab_link": true
    }
  },
  "cells": [
    {
      "cell_type": "markdown",
      "metadata": {
        "id": "view-in-github",
        "colab_type": "text"
      },
      "source": [
        "<a href=\"https://colab.research.google.com/github/0530hwi/KaggleStudy/blob/main/exercise_parsing_dates.ipynb\" target=\"_parent\"><img src=\"https://colab.research.google.com/assets/colab-badge.svg\" alt=\"Open In Colab\"/></a>"
      ]
    },
    {
      "cell_type": "markdown",
      "metadata": {
        "id": "fT2UZQzP6BSI"
      },
      "source": [
        "**This notebook is an exercise in the [Data Cleaning](https://www.kaggle.com/learn/data-cleaning) course.  You can reference the tutorial at [this link](https://www.kaggle.com/alexisbcook/parsing-dates).**\n",
        "\n",
        "---\n"
      ]
    },
    {
      "cell_type": "markdown",
      "metadata": {
        "id": "yQQjFd5g6BSK"
      },
      "source": [
        "In this exercise, you'll apply what you learned in the **Parsing dates** tutorial.\n",
        "\n",
        "# Setup\n",
        "\n",
        "The questions below will give you feedback on your work. Run the following cell to set up the feedback system."
      ]
    },
    {
      "cell_type": "code",
      "metadata": {
        "execution": {
          "iopub.status.busy": "2021-07-28T02:06:10.283192Z",
          "iopub.execute_input": "2021-07-28T02:06:10.283653Z",
          "iopub.status.idle": "2021-07-28T02:06:11.544958Z",
          "shell.execute_reply.started": "2021-07-28T02:06:10.283562Z",
          "shell.execute_reply": "2021-07-28T02:06:11.542914Z"
        },
        "trusted": true,
        "id": "FaKw3wD16BSL",
        "outputId": "83f19901-14ea-4a4b-d7e8-382775c74209"
      },
      "source": [
        "from learntools.core import binder\n",
        "binder.bind(globals())\n",
        "from learntools.data_cleaning.ex3 import *\n",
        "print(\"Setup Complete\")"
      ],
      "execution_count": null,
      "outputs": [
        {
          "output_type": "stream",
          "text": [
            "Setup Complete\n"
          ],
          "name": "stdout"
        }
      ]
    },
    {
      "cell_type": "markdown",
      "metadata": {
        "id": "TXebUn3f6BSM"
      },
      "source": [
        "# Get our environment set up\n",
        "\n",
        "The first thing we'll need to do is load in the libraries and dataset we'll be using. We'll be working with a dataset containing information on earthquakes that occured between 1965 and 2016."
      ]
    },
    {
      "cell_type": "code",
      "metadata": {
        "execution": {
          "iopub.status.busy": "2021-07-28T02:06:16.961126Z",
          "iopub.execute_input": "2021-07-28T02:06:16.961499Z",
          "iopub.status.idle": "2021-07-28T02:06:17.066221Z",
          "shell.execute_reply.started": "2021-07-28T02:06:16.961468Z",
          "shell.execute_reply": "2021-07-28T02:06:17.065168Z"
        },
        "trusted": true,
        "id": "JWkifZU06BSM"
      },
      "source": [
        "# modules we'll use\n",
        "import pandas as pd\n",
        "import numpy as np\n",
        "import seaborn as sns\n",
        "import datetime\n",
        "\n",
        "# read in our data\n",
        "earthquakes = pd.read_csv(\"../input/earthquake-database/database.csv\")\n",
        "\n",
        "# set seed for reproducibility\n",
        "np.random.seed(0)"
      ],
      "execution_count": null,
      "outputs": []
    },
    {
      "cell_type": "markdown",
      "metadata": {
        "id": "KPCVnVJQ6BSM"
      },
      "source": [
        "# 1) Check the data type of our date column\n",
        "\n",
        "You'll be working with the \"Date\" column from the `earthquakes` dataframe.  Investigate this column now: does it look like it contains dates?  What is the dtype of the column?"
      ]
    },
    {
      "cell_type": "code",
      "metadata": {
        "execution": {
          "iopub.status.busy": "2021-07-28T02:07:18.916874Z",
          "iopub.execute_input": "2021-07-28T02:07:18.917436Z",
          "iopub.status.idle": "2021-07-28T02:07:18.926854Z",
          "shell.execute_reply.started": "2021-07-28T02:07:18.917401Z",
          "shell.execute_reply": "2021-07-28T02:07:18.925948Z"
        },
        "trusted": true,
        "id": "YsSLg_rk6BSM",
        "outputId": "1f580fbf-152b-4233-b9b3-15d233db9c1b"
      },
      "source": [
        "earthquakes['Date'].head()\n",
        "\n"
      ],
      "execution_count": null,
      "outputs": [
        {
          "output_type": "execute_result",
          "data": {
            "text/plain": [
              "0    01/02/1965\n",
              "1    01/04/1965\n",
              "2    01/05/1965\n",
              "3    01/08/1965\n",
              "4    01/09/1965\n",
              "Name: Date, dtype: object"
            ]
          },
          "metadata": {
            "tags": []
          },
          "execution_count": 8
        }
      ]
    },
    {
      "cell_type": "code",
      "metadata": {
        "execution": {
          "iopub.status.busy": "2021-07-28T02:07:21.416220Z",
          "iopub.execute_input": "2021-07-28T02:07:21.416747Z",
          "iopub.status.idle": "2021-07-28T02:07:21.423730Z",
          "shell.execute_reply.started": "2021-07-28T02:07:21.416701Z",
          "shell.execute_reply": "2021-07-28T02:07:21.422717Z"
        },
        "trusted": true,
        "id": "4--F3vDS6BSN",
        "outputId": "ecf97196-8d03-499b-8e43-d7a8c70c432c"
      },
      "source": [
        "earthquakes['Date'].dtype"
      ],
      "execution_count": null,
      "outputs": [
        {
          "output_type": "execute_result",
          "data": {
            "text/plain": [
              "dtype('O')"
            ]
          },
          "metadata": {
            "tags": []
          },
          "execution_count": 9
        }
      ]
    },
    {
      "cell_type": "markdown",
      "metadata": {
        "id": "WChpIAxQ6BSN"
      },
      "source": [
        "Once you have answered the question above, run the code cell below to get credit for your work."
      ]
    },
    {
      "cell_type": "code",
      "metadata": {
        "execution": {
          "iopub.status.busy": "2021-07-28T02:07:24.377538Z",
          "iopub.execute_input": "2021-07-28T02:07:24.378035Z",
          "iopub.status.idle": "2021-07-28T02:07:24.384808Z",
          "shell.execute_reply.started": "2021-07-28T02:07:24.378002Z",
          "shell.execute_reply": "2021-07-28T02:07:24.384183Z"
        },
        "trusted": true,
        "id": "TWbV0-586BSN",
        "outputId": "51862bae-eef7-406b-b7a4-79ab0be86055"
      },
      "source": [
        "# Check your answer (Run this code cell to receive credit!)\n",
        "q1.check()"
      ],
      "execution_count": null,
      "outputs": [
        {
          "output_type": "display_data",
          "data": {
            "text/plain": [
              "<IPython.core.display.Javascript object>"
            ],
            "application/javascript": [
              "parent.postMessage({\"jupyterEvent\": \"custom.exercise_interaction\", \"data\": {\"outcomeType\": 1, \"valueTowardsCompletion\": 0.25, \"interactionType\": 1, \"questionType\": 4, \"questionId\": \"1_CheckDtype\", \"learnToolsVersion\": \"0.3.4\", \"failureMessage\": \"\", \"exceptionClass\": \"\", \"trace\": \"\"}}, \"*\")"
            ]
          },
          "metadata": {
            "tags": []
          }
        },
        {
          "output_type": "display_data",
          "data": {
            "text/plain": [
              "Correct: \n",
              "\n",
              "The \"Date\" column in the `earthquakes` DataFrame does have dates.  The dtype is \"object\"."
            ],
            "text/markdown": "<span style=\"color:#33cc33\">Correct:</span> \n\nThe \"Date\" column in the `earthquakes` DataFrame does have dates.  The dtype is \"object\"."
          },
          "metadata": {
            "tags": []
          }
        }
      ]
    },
    {
      "cell_type": "code",
      "metadata": {
        "execution": {
          "iopub.status.busy": "2021-07-28T02:11:02.481311Z",
          "iopub.execute_input": "2021-07-28T02:11:02.481982Z",
          "iopub.status.idle": "2021-07-28T02:11:02.486283Z",
          "shell.execute_reply.started": "2021-07-28T02:11:02.481928Z",
          "shell.execute_reply": "2021-07-28T02:11:02.485444Z"
        },
        "trusted": true,
        "id": "HCuWrBBN6BSO"
      },
      "source": [
        "# Line below will give you a hint\n",
        "# q1.hint()"
      ],
      "execution_count": null,
      "outputs": []
    },
    {
      "cell_type": "markdown",
      "metadata": {
        "id": "Y3v35tlJ6BSO"
      },
      "source": [
        "# 2) Convert our date columns to datetime\n",
        "\n",
        "Most of the entries in the \"Date\" column follow the same format: \"month/day/four-digit year\".  However, the entry at index 3378 follows a completely different pattern.  Run the code cell below to see this.<br><br>\n",
        "인덱스 3378 항목은 완전히 다른 패턴의 날짜 형식을 가지고 있다."
      ]
    },
    {
      "cell_type": "code",
      "metadata": {
        "execution": {
          "iopub.status.busy": "2021-07-28T02:07:29.904254Z",
          "iopub.execute_input": "2021-07-28T02:07:29.904875Z",
          "iopub.status.idle": "2021-07-28T02:07:29.939499Z",
          "shell.execute_reply.started": "2021-07-28T02:07:29.904839Z",
          "shell.execute_reply": "2021-07-28T02:07:29.938590Z"
        },
        "trusted": true,
        "id": "14bvCZ_J6BSO",
        "outputId": "30425db0-cebf-4d9b-e7da-d3a1d4ef3986"
      },
      "source": [
        "earthquakes[3378:3383]"
      ],
      "execution_count": null,
      "outputs": [
        {
          "output_type": "execute_result",
          "data": {
            "text/plain": [
              "                          Date                      Time  Latitude  Longitude  \\\n",
              "3378  1975-02-23T02:58:41.000Z  1975-02-23T02:58:41.000Z     8.017    124.075   \n",
              "3379                02/23/1975                  03:53:36   -21.727    -71.356   \n",
              "3380                02/23/1975                  07:34:11   -10.879    166.667   \n",
              "3381                02/25/1975                  05:20:05    -7.388    149.798   \n",
              "3382                02/26/1975                  04:48:55    85.047     97.969   \n",
              "\n",
              "            Type  Depth  Depth Error  Depth Seismic Stations  Magnitude  \\\n",
              "3378  Earthquake  623.0          NaN                     NaN        5.6   \n",
              "3379  Earthquake   33.0          NaN                     NaN        5.6   \n",
              "3380  Earthquake   33.0          NaN                     NaN        5.5   \n",
              "3381  Earthquake   33.0          NaN                     NaN        5.5   \n",
              "3382  Earthquake   33.0          NaN                     NaN        5.6   \n",
              "\n",
              "     Magnitude Type  ...  Magnitude Seismic Stations  Azimuthal Gap  \\\n",
              "3378             MB  ...                         NaN            NaN   \n",
              "3379             MB  ...                         NaN            NaN   \n",
              "3380             MS  ...                         NaN            NaN   \n",
              "3381             MB  ...                         NaN            NaN   \n",
              "3382             MS  ...                         NaN            NaN   \n",
              "\n",
              "      Horizontal Distance  Horizontal Error  Root Mean Square          ID  \\\n",
              "3378                  NaN               NaN               NaN  USP0000A09   \n",
              "3379                  NaN               NaN               NaN  USP0000A0A   \n",
              "3380                  NaN               NaN               NaN  USP0000A0C   \n",
              "3381                  NaN               NaN               NaN  USP0000A12   \n",
              "3382                  NaN               NaN               NaN  USP0000A1H   \n",
              "\n",
              "     Source Location Source Magnitude Source    Status  \n",
              "3378     US              US               US  Reviewed  \n",
              "3379     US              US               US  Reviewed  \n",
              "3380     US              US               US  Reviewed  \n",
              "3381     US              US               US  Reviewed  \n",
              "3382     US              US               US  Reviewed  \n",
              "\n",
              "[5 rows x 21 columns]"
            ],
            "text/html": [
              "<div>\n",
              "<style scoped>\n",
              "    .dataframe tbody tr th:only-of-type {\n",
              "        vertical-align: middle;\n",
              "    }\n",
              "\n",
              "    .dataframe tbody tr th {\n",
              "        vertical-align: top;\n",
              "    }\n",
              "\n",
              "    .dataframe thead th {\n",
              "        text-align: right;\n",
              "    }\n",
              "</style>\n",
              "<table border=\"1\" class=\"dataframe\">\n",
              "  <thead>\n",
              "    <tr style=\"text-align: right;\">\n",
              "      <th></th>\n",
              "      <th>Date</th>\n",
              "      <th>Time</th>\n",
              "      <th>Latitude</th>\n",
              "      <th>Longitude</th>\n",
              "      <th>Type</th>\n",
              "      <th>Depth</th>\n",
              "      <th>Depth Error</th>\n",
              "      <th>Depth Seismic Stations</th>\n",
              "      <th>Magnitude</th>\n",
              "      <th>Magnitude Type</th>\n",
              "      <th>...</th>\n",
              "      <th>Magnitude Seismic Stations</th>\n",
              "      <th>Azimuthal Gap</th>\n",
              "      <th>Horizontal Distance</th>\n",
              "      <th>Horizontal Error</th>\n",
              "      <th>Root Mean Square</th>\n",
              "      <th>ID</th>\n",
              "      <th>Source</th>\n",
              "      <th>Location Source</th>\n",
              "      <th>Magnitude Source</th>\n",
              "      <th>Status</th>\n",
              "    </tr>\n",
              "  </thead>\n",
              "  <tbody>\n",
              "    <tr>\n",
              "      <th>3378</th>\n",
              "      <td>1975-02-23T02:58:41.000Z</td>\n",
              "      <td>1975-02-23T02:58:41.000Z</td>\n",
              "      <td>8.017</td>\n",
              "      <td>124.075</td>\n",
              "      <td>Earthquake</td>\n",
              "      <td>623.0</td>\n",
              "      <td>NaN</td>\n",
              "      <td>NaN</td>\n",
              "      <td>5.6</td>\n",
              "      <td>MB</td>\n",
              "      <td>...</td>\n",
              "      <td>NaN</td>\n",
              "      <td>NaN</td>\n",
              "      <td>NaN</td>\n",
              "      <td>NaN</td>\n",
              "      <td>NaN</td>\n",
              "      <td>USP0000A09</td>\n",
              "      <td>US</td>\n",
              "      <td>US</td>\n",
              "      <td>US</td>\n",
              "      <td>Reviewed</td>\n",
              "    </tr>\n",
              "    <tr>\n",
              "      <th>3379</th>\n",
              "      <td>02/23/1975</td>\n",
              "      <td>03:53:36</td>\n",
              "      <td>-21.727</td>\n",
              "      <td>-71.356</td>\n",
              "      <td>Earthquake</td>\n",
              "      <td>33.0</td>\n",
              "      <td>NaN</td>\n",
              "      <td>NaN</td>\n",
              "      <td>5.6</td>\n",
              "      <td>MB</td>\n",
              "      <td>...</td>\n",
              "      <td>NaN</td>\n",
              "      <td>NaN</td>\n",
              "      <td>NaN</td>\n",
              "      <td>NaN</td>\n",
              "      <td>NaN</td>\n",
              "      <td>USP0000A0A</td>\n",
              "      <td>US</td>\n",
              "      <td>US</td>\n",
              "      <td>US</td>\n",
              "      <td>Reviewed</td>\n",
              "    </tr>\n",
              "    <tr>\n",
              "      <th>3380</th>\n",
              "      <td>02/23/1975</td>\n",
              "      <td>07:34:11</td>\n",
              "      <td>-10.879</td>\n",
              "      <td>166.667</td>\n",
              "      <td>Earthquake</td>\n",
              "      <td>33.0</td>\n",
              "      <td>NaN</td>\n",
              "      <td>NaN</td>\n",
              "      <td>5.5</td>\n",
              "      <td>MS</td>\n",
              "      <td>...</td>\n",
              "      <td>NaN</td>\n",
              "      <td>NaN</td>\n",
              "      <td>NaN</td>\n",
              "      <td>NaN</td>\n",
              "      <td>NaN</td>\n",
              "      <td>USP0000A0C</td>\n",
              "      <td>US</td>\n",
              "      <td>US</td>\n",
              "      <td>US</td>\n",
              "      <td>Reviewed</td>\n",
              "    </tr>\n",
              "    <tr>\n",
              "      <th>3381</th>\n",
              "      <td>02/25/1975</td>\n",
              "      <td>05:20:05</td>\n",
              "      <td>-7.388</td>\n",
              "      <td>149.798</td>\n",
              "      <td>Earthquake</td>\n",
              "      <td>33.0</td>\n",
              "      <td>NaN</td>\n",
              "      <td>NaN</td>\n",
              "      <td>5.5</td>\n",
              "      <td>MB</td>\n",
              "      <td>...</td>\n",
              "      <td>NaN</td>\n",
              "      <td>NaN</td>\n",
              "      <td>NaN</td>\n",
              "      <td>NaN</td>\n",
              "      <td>NaN</td>\n",
              "      <td>USP0000A12</td>\n",
              "      <td>US</td>\n",
              "      <td>US</td>\n",
              "      <td>US</td>\n",
              "      <td>Reviewed</td>\n",
              "    </tr>\n",
              "    <tr>\n",
              "      <th>3382</th>\n",
              "      <td>02/26/1975</td>\n",
              "      <td>04:48:55</td>\n",
              "      <td>85.047</td>\n",
              "      <td>97.969</td>\n",
              "      <td>Earthquake</td>\n",
              "      <td>33.0</td>\n",
              "      <td>NaN</td>\n",
              "      <td>NaN</td>\n",
              "      <td>5.6</td>\n",
              "      <td>MS</td>\n",
              "      <td>...</td>\n",
              "      <td>NaN</td>\n",
              "      <td>NaN</td>\n",
              "      <td>NaN</td>\n",
              "      <td>NaN</td>\n",
              "      <td>NaN</td>\n",
              "      <td>USP0000A1H</td>\n",
              "      <td>US</td>\n",
              "      <td>US</td>\n",
              "      <td>US</td>\n",
              "      <td>Reviewed</td>\n",
              "    </tr>\n",
              "  </tbody>\n",
              "</table>\n",
              "<p>5 rows × 21 columns</p>\n",
              "</div>"
            ]
          },
          "metadata": {
            "tags": []
          },
          "execution_count": 11
        }
      ]
    },
    {
      "cell_type": "markdown",
      "metadata": {
        "id": "DEDvbR2Z6BSO"
      },
      "source": [
        "This does appear to be an issue with data entry: ideally, all entries in the column have the same format.  We can get an idea of how widespread this issue is by checking the length of each entry in the \"Date\" column.<br><br>\n",
        "\"Date\" column의 관측치 길이는 10인데, 24를 가지고 있는 관측치 개수가 3개 더 있다."
      ]
    },
    {
      "cell_type": "code",
      "metadata": {
        "execution": {
          "iopub.status.busy": "2021-07-28T02:07:34.304228Z",
          "iopub.execute_input": "2021-07-28T02:07:34.304630Z",
          "iopub.status.idle": "2021-07-28T02:07:34.332442Z",
          "shell.execute_reply.started": "2021-07-28T02:07:34.304597Z",
          "shell.execute_reply": "2021-07-28T02:07:34.331512Z"
        },
        "trusted": true,
        "id": "JB-xchpe6BSP",
        "outputId": "3ca447ff-f0f7-4830-9d30-4ce8807631f5"
      },
      "source": [
        "date_lengths = earthquakes.Date.str.len()\n",
        "date_lengths.value_counts()"
      ],
      "execution_count": null,
      "outputs": [
        {
          "output_type": "execute_result",
          "data": {
            "text/plain": [
              "10    23409\n",
              "24        3\n",
              "Name: Date, dtype: int64"
            ]
          },
          "metadata": {
            "tags": []
          },
          "execution_count": 12
        }
      ]
    },
    {
      "cell_type": "markdown",
      "metadata": {
        "id": "gn-2k-R76BSP"
      },
      "source": [
        "Looks like there are two more rows that has a date in a different format.  Run the code cell below to obtain the indices corresponding to those rows and print the data."
      ]
    },
    {
      "cell_type": "code",
      "metadata": {
        "execution": {
          "iopub.status.busy": "2021-07-28T02:07:40.447870Z",
          "iopub.execute_input": "2021-07-28T02:07:40.448203Z",
          "iopub.status.idle": "2021-07-28T02:07:40.495791Z",
          "shell.execute_reply.started": "2021-07-28T02:07:40.448175Z",
          "shell.execute_reply": "2021-07-28T02:07:40.494919Z"
        },
        "trusted": true,
        "id": "4wXrm8B96BSP",
        "outputId": "fb2cdbbe-9bec-4488-c25b-b460595651b1"
      },
      "source": [
        "indices = np.where([date_lengths == 24])[1]\n",
        "print('Indices with corrupted data:', indices)\n",
        "earthquakes.loc[indices]"
      ],
      "execution_count": null,
      "outputs": [
        {
          "output_type": "stream",
          "text": [
            "Indices with corrupted data: [ 3378  7512 20650]\n"
          ],
          "name": "stdout"
        },
        {
          "output_type": "execute_result",
          "data": {
            "text/plain": [
              "                           Date                      Time  Latitude  \\\n",
              "3378   1975-02-23T02:58:41.000Z  1975-02-23T02:58:41.000Z     8.017   \n",
              "7512   1985-04-28T02:53:41.530Z  1985-04-28T02:53:41.530Z   -32.998   \n",
              "20650  2011-03-13T02:23:34.520Z  2011-03-13T02:23:34.520Z    36.344   \n",
              "\n",
              "       Longitude        Type  Depth  Depth Error  Depth Seismic Stations  \\\n",
              "3378     124.075  Earthquake  623.0          NaN                     NaN   \n",
              "7512     -71.766  Earthquake   33.0          NaN                     NaN   \n",
              "20650    142.344  Earthquake   10.1         13.9                   289.0   \n",
              "\n",
              "       Magnitude Magnitude Type  ...  Magnitude Seismic Stations  \\\n",
              "3378         5.6             MB  ...                         NaN   \n",
              "7512         5.6             MW  ...                         NaN   \n",
              "20650        5.8            MWC  ...                         NaN   \n",
              "\n",
              "       Azimuthal Gap  Horizontal Distance  Horizontal Error  Root Mean Square  \\\n",
              "3378             NaN                  NaN               NaN               NaN   \n",
              "7512             NaN                  NaN               NaN              1.30   \n",
              "20650           32.3                  NaN               NaN              1.06   \n",
              "\n",
              "               ID Source Location Source Magnitude Source    Status  \n",
              "3378   USP0000A09     US              US               US  Reviewed  \n",
              "7512   USP0002E81     US              US              HRV  Reviewed  \n",
              "20650  USP000HWQP     US              US             GCMT  Reviewed  \n",
              "\n",
              "[3 rows x 21 columns]"
            ],
            "text/html": [
              "<div>\n",
              "<style scoped>\n",
              "    .dataframe tbody tr th:only-of-type {\n",
              "        vertical-align: middle;\n",
              "    }\n",
              "\n",
              "    .dataframe tbody tr th {\n",
              "        vertical-align: top;\n",
              "    }\n",
              "\n",
              "    .dataframe thead th {\n",
              "        text-align: right;\n",
              "    }\n",
              "</style>\n",
              "<table border=\"1\" class=\"dataframe\">\n",
              "  <thead>\n",
              "    <tr style=\"text-align: right;\">\n",
              "      <th></th>\n",
              "      <th>Date</th>\n",
              "      <th>Time</th>\n",
              "      <th>Latitude</th>\n",
              "      <th>Longitude</th>\n",
              "      <th>Type</th>\n",
              "      <th>Depth</th>\n",
              "      <th>Depth Error</th>\n",
              "      <th>Depth Seismic Stations</th>\n",
              "      <th>Magnitude</th>\n",
              "      <th>Magnitude Type</th>\n",
              "      <th>...</th>\n",
              "      <th>Magnitude Seismic Stations</th>\n",
              "      <th>Azimuthal Gap</th>\n",
              "      <th>Horizontal Distance</th>\n",
              "      <th>Horizontal Error</th>\n",
              "      <th>Root Mean Square</th>\n",
              "      <th>ID</th>\n",
              "      <th>Source</th>\n",
              "      <th>Location Source</th>\n",
              "      <th>Magnitude Source</th>\n",
              "      <th>Status</th>\n",
              "    </tr>\n",
              "  </thead>\n",
              "  <tbody>\n",
              "    <tr>\n",
              "      <th>3378</th>\n",
              "      <td>1975-02-23T02:58:41.000Z</td>\n",
              "      <td>1975-02-23T02:58:41.000Z</td>\n",
              "      <td>8.017</td>\n",
              "      <td>124.075</td>\n",
              "      <td>Earthquake</td>\n",
              "      <td>623.0</td>\n",
              "      <td>NaN</td>\n",
              "      <td>NaN</td>\n",
              "      <td>5.6</td>\n",
              "      <td>MB</td>\n",
              "      <td>...</td>\n",
              "      <td>NaN</td>\n",
              "      <td>NaN</td>\n",
              "      <td>NaN</td>\n",
              "      <td>NaN</td>\n",
              "      <td>NaN</td>\n",
              "      <td>USP0000A09</td>\n",
              "      <td>US</td>\n",
              "      <td>US</td>\n",
              "      <td>US</td>\n",
              "      <td>Reviewed</td>\n",
              "    </tr>\n",
              "    <tr>\n",
              "      <th>7512</th>\n",
              "      <td>1985-04-28T02:53:41.530Z</td>\n",
              "      <td>1985-04-28T02:53:41.530Z</td>\n",
              "      <td>-32.998</td>\n",
              "      <td>-71.766</td>\n",
              "      <td>Earthquake</td>\n",
              "      <td>33.0</td>\n",
              "      <td>NaN</td>\n",
              "      <td>NaN</td>\n",
              "      <td>5.6</td>\n",
              "      <td>MW</td>\n",
              "      <td>...</td>\n",
              "      <td>NaN</td>\n",
              "      <td>NaN</td>\n",
              "      <td>NaN</td>\n",
              "      <td>NaN</td>\n",
              "      <td>1.30</td>\n",
              "      <td>USP0002E81</td>\n",
              "      <td>US</td>\n",
              "      <td>US</td>\n",
              "      <td>HRV</td>\n",
              "      <td>Reviewed</td>\n",
              "    </tr>\n",
              "    <tr>\n",
              "      <th>20650</th>\n",
              "      <td>2011-03-13T02:23:34.520Z</td>\n",
              "      <td>2011-03-13T02:23:34.520Z</td>\n",
              "      <td>36.344</td>\n",
              "      <td>142.344</td>\n",
              "      <td>Earthquake</td>\n",
              "      <td>10.1</td>\n",
              "      <td>13.9</td>\n",
              "      <td>289.0</td>\n",
              "      <td>5.8</td>\n",
              "      <td>MWC</td>\n",
              "      <td>...</td>\n",
              "      <td>NaN</td>\n",
              "      <td>32.3</td>\n",
              "      <td>NaN</td>\n",
              "      <td>NaN</td>\n",
              "      <td>1.06</td>\n",
              "      <td>USP000HWQP</td>\n",
              "      <td>US</td>\n",
              "      <td>US</td>\n",
              "      <td>GCMT</td>\n",
              "      <td>Reviewed</td>\n",
              "    </tr>\n",
              "  </tbody>\n",
              "</table>\n",
              "<p>3 rows × 21 columns</p>\n",
              "</div>"
            ]
          },
          "metadata": {
            "tags": []
          },
          "execution_count": 13
        }
      ]
    },
    {
      "cell_type": "markdown",
      "metadata": {
        "id": "ZmP8-9rT6BSP"
      },
      "source": [
        "Given all of this information, it's your turn to create a new column \"date_parsed\" in the `earthquakes` dataset that has correctly parsed dates in it.  \n",
        "\n",
        "**Note**: When completing this problem, you are allowed to (but are not required to) amend the entries in the \"Date\" and \"Time\" columns.  Do not remove any rows from the dataset."
      ]
    },
    {
      "cell_type": "code",
      "metadata": {
        "execution": {
          "iopub.status.busy": "2021-07-28T02:08:05.940665Z",
          "iopub.execute_input": "2021-07-28T02:08:05.941032Z",
          "iopub.status.idle": "2021-07-28T02:08:06.012779Z",
          "shell.execute_reply.started": "2021-07-28T02:08:05.940997Z",
          "shell.execute_reply": "2021-07-28T02:08:06.012103Z"
        },
        "trusted": true,
        "id": "SvCHvsd06BSP",
        "outputId": "44162817-c684-4bd4-c198-3275e15d8ab8"
      },
      "source": [
        "earthquakes.loc[3378, \"Date\"] = \"02/23/1975\"\n",
        "earthquakes.loc[7512, \"Date\"] = \"04/28/1985\"\n",
        "earthquakes.loc[20650, \"Date\"] = \"03/13/2011\"\n",
        "earthquakes['date_parsed'] = pd.to_datetime(earthquakes['Date'], format=\"%m/%d/%Y\")\n",
        "\n",
        "# Check your answer\n",
        "q2.check()"
      ],
      "execution_count": null,
      "outputs": [
        {
          "output_type": "display_data",
          "data": {
            "text/plain": [
              "<IPython.core.display.Javascript object>"
            ],
            "application/javascript": [
              "parent.postMessage({\"jupyterEvent\": \"custom.exercise_interaction\", \"data\": {\"outcomeType\": 1, \"valueTowardsCompletion\": 0.25, \"interactionType\": 1, \"questionType\": 2, \"questionId\": \"2_ConvertToDatetime\", \"learnToolsVersion\": \"0.3.4\", \"failureMessage\": \"\", \"exceptionClass\": \"\", \"trace\": \"\"}}, \"*\")"
            ]
          },
          "metadata": {
            "tags": []
          }
        },
        {
          "output_type": "display_data",
          "data": {
            "text/plain": [
              "Correct"
            ],
            "text/markdown": "<span style=\"color:#33cc33\">Correct</span>"
          },
          "metadata": {
            "tags": []
          }
        }
      ]
    },
    {
      "cell_type": "code",
      "metadata": {
        "execution": {
          "iopub.status.busy": "2021-07-28T02:08:26.711096Z",
          "iopub.execute_input": "2021-07-28T02:08:26.711497Z",
          "iopub.status.idle": "2021-07-28T02:08:26.715527Z",
          "shell.execute_reply.started": "2021-07-28T02:08:26.711457Z",
          "shell.execute_reply": "2021-07-28T02:08:26.714578Z"
        },
        "trusted": true,
        "id": "i14-Cfav6BSQ"
      },
      "source": [
        "# Lines below will give you a hint or solution code\n",
        "# q2.hint()\n",
        "# q2.solution()"
      ],
      "execution_count": null,
      "outputs": []
    },
    {
      "cell_type": "markdown",
      "metadata": {
        "id": "ruZmreft6BSQ"
      },
      "source": [
        "# 3) Select the day of the month\n",
        "\n",
        "Create a Pandas Series `day_of_month_earthquakes` containing the day of the month from the \"date_parsed\" column."
      ]
    },
    {
      "cell_type": "code",
      "metadata": {
        "execution": {
          "iopub.status.busy": "2021-07-28T02:08:35.950542Z",
          "iopub.execute_input": "2021-07-28T02:08:35.950915Z",
          "iopub.status.idle": "2021-07-28T02:08:35.963308Z",
          "shell.execute_reply.started": "2021-07-28T02:08:35.950885Z",
          "shell.execute_reply": "2021-07-28T02:08:35.962299Z"
        },
        "trusted": true,
        "id": "q-JOcPwH6BSQ",
        "outputId": "f04eb2c0-7573-45b1-c23d-dd794128ca1a"
      },
      "source": [
        "# try to get the day of the month from the date column\n",
        "day_of_month_earthquakes = earthquakes['date_parsed'].dt.day\n",
        "\n",
        "# Check your answer\n",
        "q3.check()"
      ],
      "execution_count": null,
      "outputs": [
        {
          "output_type": "display_data",
          "data": {
            "text/plain": [
              "<IPython.core.display.Javascript object>"
            ],
            "application/javascript": [
              "parent.postMessage({\"jupyterEvent\": \"custom.exercise_interaction\", \"data\": {\"outcomeType\": 1, \"valueTowardsCompletion\": 0.25, \"interactionType\": 1, \"questionType\": 1, \"questionId\": \"3_DayOfMonth\", \"learnToolsVersion\": \"0.3.4\", \"failureMessage\": \"\", \"exceptionClass\": \"\", \"trace\": \"\"}}, \"*\")"
            ]
          },
          "metadata": {
            "tags": []
          }
        },
        {
          "output_type": "display_data",
          "data": {
            "text/plain": [
              "Correct"
            ],
            "text/markdown": "<span style=\"color:#33cc33\">Correct</span>"
          },
          "metadata": {
            "tags": []
          }
        }
      ]
    },
    {
      "cell_type": "code",
      "metadata": {
        "execution": {
          "iopub.status.busy": "2021-07-28T02:08:29.931948Z",
          "iopub.execute_input": "2021-07-28T02:08:29.932491Z",
          "iopub.status.idle": "2021-07-28T02:08:29.941374Z",
          "shell.execute_reply.started": "2021-07-28T02:08:29.932445Z",
          "shell.execute_reply": "2021-07-28T02:08:29.940414Z"
        },
        "trusted": true,
        "id": "UZHyVRZ26BSQ"
      },
      "source": [
        "# Lines below will give you a hint or solution code\n",
        "# q3.hint()\n",
        "# q3.solution()"
      ],
      "execution_count": null,
      "outputs": []
    },
    {
      "cell_type": "markdown",
      "metadata": {
        "id": "3mCci_ye6BSR"
      },
      "source": [
        "# 4) Plot the day of the month to check the date parsing\n",
        "\n",
        "Plot the days of the month from your earthquake dataset."
      ]
    },
    {
      "cell_type": "code",
      "metadata": {
        "execution": {
          "iopub.status.busy": "2021-07-28T02:08:50.026069Z",
          "iopub.execute_input": "2021-07-28T02:08:50.026622Z",
          "iopub.status.idle": "2021-07-28T02:08:50.273293Z",
          "shell.execute_reply.started": "2021-07-28T02:08:50.026586Z",
          "shell.execute_reply": "2021-07-28T02:08:50.272152Z"
        },
        "trusted": true,
        "id": "_fwfSvqP6BSR",
        "outputId": "c3787bec-9927-4d02-95ad-9ba22ffd847a"
      },
      "source": [
        "# remove na's\n",
        "day_of_month_earthquakes = day_of_month_earthquakes.dropna()\n",
        "\n",
        "# plot the day of the month\n",
        "sns.distplot(day_of_month_earthquakes, kde=False, bins=31)\n"
      ],
      "execution_count": null,
      "outputs": [
        {
          "output_type": "stream",
          "text": [
            "/opt/conda/lib/python3.7/site-packages/seaborn/distributions.py:2557: FutureWarning: `distplot` is a deprecated function and will be removed in a future version. Please adapt your code to use either `displot` (a figure-level function with similar flexibility) or `histplot` (an axes-level function for histograms).\n",
            "  warnings.warn(msg, FutureWarning)\n"
          ],
          "name": "stderr"
        },
        {
          "output_type": "execute_result",
          "data": {
            "text/plain": [
              "<AxesSubplot:xlabel='date_parsed'>"
            ]
          },
          "metadata": {
            "tags": []
          },
          "execution_count": 20
        },
        {
          "output_type": "display_data",
          "data": {
            "text/plain": [
              "<Figure size 432x288 with 1 Axes>"
            ],
            "image/png": "[encoded data removed]"
          },
          "metadata": {
            "tags": [],
            "needs_background": "light"
          }
        }
      ]
    },
    {
      "cell_type": "markdown",
      "metadata": {
        "id": "ryJsP9Ez6BSR"
      },
      "source": [
        "Does the graph make sense to you?"
      ]
    },
    {
      "cell_type": "code",
      "metadata": {
        "execution": {
          "iopub.status.busy": "2021-07-28T02:10:49.934278Z",
          "iopub.execute_input": "2021-07-28T02:10:49.934716Z",
          "iopub.status.idle": "2021-07-28T02:10:49.945096Z",
          "shell.execute_reply.started": "2021-07-28T02:10:49.934677Z",
          "shell.execute_reply": "2021-07-28T02:10:49.943533Z"
        },
        "trusted": true,
        "id": "l-6vkigp6BSR",
        "outputId": "930d0eac-f943-4e54-ca8b-181cf2a72146"
      },
      "source": [
        "# Check your answer (Run this code cell to receive credit!)\n",
        "q4.check()"
      ],
      "execution_count": null,
      "outputs": [
        {
          "output_type": "display_data",
          "data": {
            "text/plain": [
              "<IPython.core.display.Javascript object>"
            ],
            "application/javascript": [
              "parent.postMessage({\"jupyterEvent\": \"custom.exercise_interaction\", \"data\": {\"outcomeType\": 1, \"valueTowardsCompletion\": 0.25, \"interactionType\": 1, \"questionType\": 4, \"questionId\": \"4_PlotDayOfMonth\", \"learnToolsVersion\": \"0.3.4\", \"failureMessage\": \"\", \"exceptionClass\": \"\", \"trace\": \"\"}}, \"*\")"
            ]
          },
          "metadata": {
            "tags": []
          }
        },
        {
          "output_type": "display_data",
          "data": {
            "text/plain": [
              "Correct: \n",
              "\n",
              "The graph should make sense: it shows a relatively even distribution in days of the month,which is what we would expect."
            ],
            "text/markdown": "<span style=\"color:#33cc33\">Correct:</span> \n\nThe graph should make sense: it shows a relatively even distribution in days of the month,which is what we would expect."
          },
          "metadata": {
            "tags": []
          }
        }
      ]
    },
    {
      "cell_type": "code",
      "metadata": {
        "execution": {
          "iopub.status.busy": "2021-07-28T02:10:47.280898Z",
          "iopub.execute_input": "2021-07-28T02:10:47.281308Z",
          "iopub.status.idle": "2021-07-28T02:10:47.285468Z",
          "shell.execute_reply.started": "2021-07-28T02:10:47.281275Z",
          "shell.execute_reply": "2021-07-28T02:10:47.284352Z"
        },
        "trusted": true,
        "id": "TxlQq5b46BSR"
      },
      "source": [
        "# Line below will give you a hint\n",
        "# q4.hint()"
      ],
      "execution_count": null,
      "outputs": []
    },
    {
      "cell_type": "markdown",
      "metadata": {
        "id": "3aJq2iAV6BSS"
      },
      "source": [
        "# (Optional) Bonus Challenge\n",
        "\n",
        "For an extra challenge, you'll work with a [Smithsonian dataset](https://www.kaggle.com/smithsonian/volcanic-eruptions) that documents Earth's volcanoes and their eruptive history over the past 10,000 years \n",
        "\n",
        "Run the next code cell to load the data."
      ]
    },
    {
      "cell_type": "code",
      "metadata": {
        "execution": {
          "iopub.status.busy": "2021-07-28T02:09:04.237929Z",
          "iopub.execute_input": "2021-07-28T02:09:04.238281Z",
          "iopub.status.idle": "2021-07-28T02:09:04.259942Z",
          "shell.execute_reply.started": "2021-07-28T02:09:04.238250Z",
          "shell.execute_reply": "2021-07-28T02:09:04.259027Z"
        },
        "trusted": true,
        "id": "yMAA5EBj6BSS"
      },
      "source": [
        "volcanos = pd.read_csv(\"../input/volcanic-eruptions/database.csv\")"
      ],
      "execution_count": null,
      "outputs": []
    },
    {
      "cell_type": "markdown",
      "metadata": {
        "id": "xUGQNJ5x6BSS"
      },
      "source": [
        "Try parsing the column \"Last Known Eruption\" from the `volcanos` dataframe. This column contains a mixture of text (\"Unknown\") and years both before the common era (BCE, also known as BC) and in the common era (CE, also known as AD)."
      ]
    },
    {
      "cell_type": "code",
      "metadata": {
        "execution": {
          "iopub.status.busy": "2021-07-28T02:09:05.572596Z",
          "iopub.execute_input": "2021-07-28T02:09:05.572951Z",
          "iopub.status.idle": "2021-07-28T02:09:05.581085Z",
          "shell.execute_reply.started": "2021-07-28T02:09:05.572921Z",
          "shell.execute_reply": "2021-07-28T02:09:05.579979Z"
        },
        "trusted": true,
        "id": "7a52P7_N6BSS",
        "outputId": "28afa4cb-12a7-4871-f149-42cecf81af5f"
      },
      "source": [
        "volcanos['Last Known Eruption'].sample(5)"
      ],
      "execution_count": null,
      "outputs": [
        {
          "output_type": "execute_result",
          "data": {
            "text/plain": [
              "764     Unknown\n",
              "1069    1996 CE\n",
              "34      1855 CE\n",
              "489     2016 CE\n",
              "9       1302 CE\n",
              "Name: Last Known Eruption, dtype: object"
            ]
          },
          "metadata": {
            "tags": []
          },
          "execution_count": 23
        }
      ]
    },
    {
      "cell_type": "markdown",
      "metadata": {
        "id": "ocSYKeYy6BST"
      },
      "source": [
        "# (Optional) More practice\n",
        "\n",
        "If you're interested in graphing time series, [check out this tutorial](https://www.kaggle.com/residentmario/time-series-plotting-optional).\n",
        "\n",
        "You can also look into passing columns that you know have dates in them  the `parse_dates` argument in `read_csv`. (The documention [is here](https://pandas.pydata.org/pandas-docs/stable/generated/pandas.read_csv.html).) Do note that this method can be very slow, but depending on your needs it may sometimes be handy to use.\n",
        "\n",
        "# Keep going\n",
        "\n",
        "In the next lesson, learn how to [**work with character encodings**](https://www.kaggle.com/alexisbcook/character-encodings)."
      ]
    },
    {
      "cell_type": "markdown",
      "metadata": {
        "id": "_A9g9hTx6BST"
      },
      "source": [
        "---\n",
        "\n",
        "\n",
        "\n",
        "\n",
        "*Have questions or comments? Visit the [Learn Discussion forum](https://www.kaggle.com/learn-forum/172650) to chat with other Learners.*"
      ]
    }
  ]
}