{
  "nbformat": 4,
  "nbformat_minor": 0,
  "metadata": {
    "colab": {
      "name": "Kprototyp.ipynb",
      "provenance": [],
      "collapsed_sections": [],
      "machine_shape": "hm",
      "include_colab_link": true
    },
    "kernelspec": {
      "name": "python3",
      "display_name": "Python 3"
    },
    "language_info": {
      "name": "python"
    }
  },
  "cells": [
    {
      "cell_type": "markdown",
      "metadata": {
        "id": "view-in-github",
        "colab_type": "text"
      },
      "source": [
        "<a href=\"https://colab.research.google.com/github/0530hwi/KaggleStudy/blob/main/Kprototyp.ipynb\" target=\"_parent\"><img src=\"https://colab.research.google.com/assets/colab-badge.svg\" alt=\"Open In Colab\"/></a>"
      ]
    },
    {
      "cell_type": "code",
      "source": [
        "!pip install kmodes"
      ],
      "metadata": {
        "id": "KchxjR-Y0txK",
        "outputId": "8da87ae7-acbf-4e0f-9c4d-2a0e0432c881",
        "colab": {
          "base_uri": "https://localhost:8080/"
        }
      },
      "execution_count": null,
      "outputs": [
        {
          "output_type": "stream",
          "name": "stdout",
          "text": [
            "Requirement already satisfied: kmodes in /usr/local/lib/python3.7/dist-packages (0.11.1)\n",
            "Requirement already satisfied: scipy>=0.13.3 in /usr/local/lib/python3.7/dist-packages (from kmodes) (1.4.1)\n",
            "Requirement already satisfied: scikit-learn>=0.22.0 in /usr/local/lib/python3.7/dist-packages (from kmodes) (1.0.1)\n",
            "Requirement already satisfied: numpy>=1.10.4 in /usr/local/lib/python3.7/dist-packages (from kmodes) (1.19.5)\n",
            "Requirement already satisfied: joblib>=0.11 in /usr/local/lib/python3.7/dist-packages (from kmodes) (1.1.0)\n",
            "Requirement already satisfied: threadpoolctl>=2.0.0 in /usr/local/lib/python3.7/dist-packages (from scikit-learn>=0.22.0->kmodes) (3.0.0)\n"
          ]
        }
      ]
    },
    {
      "cell_type": "code",
      "execution_count": null,
      "metadata": {
        "id": "g0EGD1ZTzyOV"
      },
      "outputs": [],
      "source": [
        "import os\n",
        "import pandas as pd \n",
        "import numpy as np \n",
        "\n",
        "%matplotlib inline\n",
        "import matplotlib.pyplot as plt\n",
        "import seaborn as sns\n",
        "\n",
        "import unicodedata\n",
        "import datetime\n",
        "from pytz import timezone\n",
        "\n",
        "from kmodes.kprototypes import KPrototypes # clustering method\n",
        "\n",
        "import warnings\n",
        "warnings.filterwarnings('ignore')\n",
        "\n",
        "import matplotlib as mpl\n",
        "mpl.rcParams['font.size'] = 9.0\n",
        "\n",
        "# plt.rcParams['font.family'] = 'AppleGothic'\n",
        "\n",
        "plt.rc('font', family='NanumBarunGothic') "
      ]
    },
    {
      "cell_type": "markdown",
      "source": [
        "# 1. Data | without Region\n"
      ],
      "metadata": {
        "id": "NuH4yH1I5j-H"
      }
    },
    {
      "cell_type": "code",
      "source": [
        "from google.colab import drive\n",
        "drive.mount('/content/drive')"
      ],
      "metadata": {
        "id": "Oh638oM8U5n4",
        "outputId": "6c160b78-519f-48bb-d640-cb90bd7df237",
        "colab": {
          "base_uri": "https://localhost:8080/"
        }
      },
      "execution_count": null,
      "outputs": [
        {
          "output_type": "stream",
          "name": "stdout",
          "text": [
            "Drive already mounted at /content/drive; to attempt to forcibly remount, call drive.mount(\"/content/drive\", force_remount=True).\n"
          ]
        }
      ]
    },
    {
      "cell_type": "code",
      "source": [
        "path = '/content/drive/Shareddrives/Socar_QuickNap/DATA/ExtractedData'\n",
        "data_path = path + '/4_1_arrange_with_region.csv'"
      ],
      "metadata": {
        "id": "H_9OFhkL0Iqv"
      },
      "execution_count": null,
      "outputs": []
    },
    {
      "cell_type": "code",
      "source": [
        "# region 있는 데이터 \n",
        "\n",
        "data = pd.read_csv(data_path)\n",
        "data.head()"
      ],
      "metadata": {
        "id": "2uhrqndQz_q1",
        "outputId": "5898edfd-5e71-4af7-bce6-a7c20933a418",
        "colab": {
          "base_uri": "https://localhost:8080/",
          "height": 206
        }
      },
      "execution_count": null,
      "outputs": [
        {
          "output_type": "execute_result",
          "data": {
            "text/html": [
              "<div>\n",
              "<style scoped>\n",
              "    .dataframe tbody tr th:only-of-type {\n",
              "        vertical-align: middle;\n",
              "    }\n",
              "\n",
              "    .dataframe tbody tr th {\n",
              "        vertical-align: top;\n",
              "    }\n",
              "\n",
              "    .dataframe thead th {\n",
              "        text-align: right;\n",
              "    }\n",
              "</style>\n",
              "<table border=\"1\" class=\"dataframe\">\n",
              "  <thead>\n",
              "    <tr style=\"text-align: right;\">\n",
              "      <th></th>\n",
              "      <th>region</th>\n",
              "      <th>reservation_start_at</th>\n",
              "      <th>use_total_hr</th>\n",
              "      <th>start_weekday</th>\n",
              "      <th>start_isweekend</th>\n",
              "      <th>age_group</th>\n",
              "      <th>gender</th>\n",
              "      <th>car_model</th>\n",
              "    </tr>\n",
              "  </thead>\n",
              "  <tbody>\n",
              "    <tr>\n",
              "      <th>0</th>\n",
              "      <td>부산광역시 강서구</td>\n",
              "      <td>2018-12-27 12:20:00+00:00</td>\n",
              "      <td>141.69</td>\n",
              "      <td>3</td>\n",
              "      <td>0</td>\n",
              "      <td>3</td>\n",
              "      <td>male</td>\n",
              "      <td>중형SUV</td>\n",
              "    </tr>\n",
              "    <tr>\n",
              "      <th>1</th>\n",
              "      <td>경기도 고양시 일산동구</td>\n",
              "      <td>2018-12-27 18:00:00+00:00</td>\n",
              "      <td>231.75</td>\n",
              "      <td>3</td>\n",
              "      <td>0</td>\n",
              "      <td>2</td>\n",
              "      <td>female</td>\n",
              "      <td>경형</td>\n",
              "    </tr>\n",
              "    <tr>\n",
              "      <th>2</th>\n",
              "      <td>경기도 김포시</td>\n",
              "      <td>2018-12-28 11:00:00+00:00</td>\n",
              "      <td>124.83</td>\n",
              "      <td>4</td>\n",
              "      <td>0</td>\n",
              "      <td>3</td>\n",
              "      <td>female</td>\n",
              "      <td>경형</td>\n",
              "    </tr>\n",
              "    <tr>\n",
              "      <th>3</th>\n",
              "      <td>경기도 화성시</td>\n",
              "      <td>2018-12-28 14:00:00+00:00</td>\n",
              "      <td>104.84</td>\n",
              "      <td>4</td>\n",
              "      <td>0</td>\n",
              "      <td>2</td>\n",
              "      <td>male</td>\n",
              "      <td>소형SUV</td>\n",
              "    </tr>\n",
              "    <tr>\n",
              "      <th>4</th>\n",
              "      <td>경기도 의정부시</td>\n",
              "      <td>2018-12-28 20:20:00+00:00</td>\n",
              "      <td>187.40</td>\n",
              "      <td>4</td>\n",
              "      <td>0</td>\n",
              "      <td>2</td>\n",
              "      <td>male</td>\n",
              "      <td>준중형</td>\n",
              "    </tr>\n",
              "  </tbody>\n",
              "</table>\n",
              "</div>"
            ],
            "text/plain": [
              "         region       reservation_start_at  ...  gender  car_model\n",
              "0     부산광역시 강서구  2018-12-27 12:20:00+00:00  ...    male      중형SUV\n",
              "1  경기도 고양시 일산동구  2018-12-27 18:00:00+00:00  ...  female         경형\n",
              "2       경기도 김포시  2018-12-28 11:00:00+00:00  ...  female         경형\n",
              "3       경기도 화성시  2018-12-28 14:00:00+00:00  ...    male      소형SUV\n",
              "4      경기도 의정부시  2018-12-28 20:20:00+00:00  ...    male        준중형\n",
              "\n",
              "[5 rows x 8 columns]"
            ]
          },
          "metadata": {},
          "execution_count": 5
        }
      ]
    },
    {
      "cell_type": "markdown",
      "source": [
        "# 2. Kprototypes\n"
      ],
      "metadata": {
        "id": "iCt5P9Rk5piF"
      }
    },
    {
      "cell_type": "code",
      "source": [
        "# Kprototype 진행을 위해 reservation_start_at을 index로 변환하고자 함 \n",
        "data.set_index('reservation_start_at', inplace = True)\n",
        "data.head()"
      ],
      "metadata": {
        "id": "-Dcgtrj54BIF",
        "outputId": "c42fd5bc-3fbc-4ef8-d668-ac8d87e30ad2",
        "colab": {
          "base_uri": "https://localhost:8080/",
          "height": 238
        }
      },
      "execution_count": null,
      "outputs": [
        {
          "output_type": "execute_result",
          "data": {
            "text/html": [
              "<div>\n",
              "<style scoped>\n",
              "    .dataframe tbody tr th:only-of-type {\n",
              "        vertical-align: middle;\n",
              "    }\n",
              "\n",
              "    .dataframe tbody tr th {\n",
              "        vertical-align: top;\n",
              "    }\n",
              "\n",
              "    .dataframe thead th {\n",
              "        text-align: right;\n",
              "    }\n",
              "</style>\n",
              "<table border=\"1\" class=\"dataframe\">\n",
              "  <thead>\n",
              "    <tr style=\"text-align: right;\">\n",
              "      <th></th>\n",
              "      <th>region</th>\n",
              "      <th>use_total_hr</th>\n",
              "      <th>start_weekday</th>\n",
              "      <th>start_isweekend</th>\n",
              "      <th>age_group</th>\n",
              "      <th>gender</th>\n",
              "      <th>car_model</th>\n",
              "    </tr>\n",
              "    <tr>\n",
              "      <th>reservation_start_at</th>\n",
              "      <th></th>\n",
              "      <th></th>\n",
              "      <th></th>\n",
              "      <th></th>\n",
              "      <th></th>\n",
              "      <th></th>\n",
              "      <th></th>\n",
              "    </tr>\n",
              "  </thead>\n",
              "  <tbody>\n",
              "    <tr>\n",
              "      <th>2018-12-27 12:20:00+00:00</th>\n",
              "      <td>부산광역시 강서구</td>\n",
              "      <td>141.69</td>\n",
              "      <td>3</td>\n",
              "      <td>0</td>\n",
              "      <td>3</td>\n",
              "      <td>male</td>\n",
              "      <td>중형SUV</td>\n",
              "    </tr>\n",
              "    <tr>\n",
              "      <th>2018-12-27 18:00:00+00:00</th>\n",
              "      <td>경기도 고양시 일산동구</td>\n",
              "      <td>231.75</td>\n",
              "      <td>3</td>\n",
              "      <td>0</td>\n",
              "      <td>2</td>\n",
              "      <td>female</td>\n",
              "      <td>경형</td>\n",
              "    </tr>\n",
              "    <tr>\n",
              "      <th>2018-12-28 11:00:00+00:00</th>\n",
              "      <td>경기도 김포시</td>\n",
              "      <td>124.83</td>\n",
              "      <td>4</td>\n",
              "      <td>0</td>\n",
              "      <td>3</td>\n",
              "      <td>female</td>\n",
              "      <td>경형</td>\n",
              "    </tr>\n",
              "    <tr>\n",
              "      <th>2018-12-28 14:00:00+00:00</th>\n",
              "      <td>경기도 화성시</td>\n",
              "      <td>104.84</td>\n",
              "      <td>4</td>\n",
              "      <td>0</td>\n",
              "      <td>2</td>\n",
              "      <td>male</td>\n",
              "      <td>소형SUV</td>\n",
              "    </tr>\n",
              "    <tr>\n",
              "      <th>2018-12-28 20:20:00+00:00</th>\n",
              "      <td>경기도 의정부시</td>\n",
              "      <td>187.40</td>\n",
              "      <td>4</td>\n",
              "      <td>0</td>\n",
              "      <td>2</td>\n",
              "      <td>male</td>\n",
              "      <td>준중형</td>\n",
              "    </tr>\n",
              "  </tbody>\n",
              "</table>\n",
              "</div>"
            ],
            "text/plain": [
              "                                 region  use_total_hr  ...  gender  car_model\n",
              "reservation_start_at                                   ...                   \n",
              "2018-12-27 12:20:00+00:00     부산광역시 강서구        141.69  ...    male      중형SUV\n",
              "2018-12-27 18:00:00+00:00  경기도 고양시 일산동구        231.75  ...  female         경형\n",
              "2018-12-28 11:00:00+00:00       경기도 김포시        124.83  ...  female         경형\n",
              "2018-12-28 14:00:00+00:00       경기도 화성시        104.84  ...    male      소형SUV\n",
              "2018-12-28 20:20:00+00:00      경기도 의정부시        187.40  ...    male        준중형\n",
              "\n",
              "[5 rows x 7 columns]"
            ]
          },
          "metadata": {},
          "execution_count": 6
        }
      ]
    },
    {
      "cell_type": "code",
      "source": [
        "# region 한글 to ALPHABET CATEGORY\n",
        "region_ = sorted(list(set(data['region'])))\n",
        "print(len(region_))\n",
        "alpha = ['a', 'b', 'c', 'd', 'e', 'f', 'g', 'h', 'i', 'j', 'k', 'l', 'm', 'n', 'o', 'p', 'q', 'r','s', 't', 'u','v', 'w', 'x', 'y']\n",
        "\n",
        "r_set = {}\n",
        "for r, a in zip(region_, alpha):\n",
        "  r_set[r] = a\n"
      ],
      "metadata": {
        "id": "5gVLPc4yDEkn",
        "outputId": "688d5015-7cfc-4f33-da22-343bb8b954fc",
        "colab": {
          "base_uri": "https://localhost:8080/"
        }
      },
      "execution_count": null,
      "outputs": [
        {
          "output_type": "stream",
          "name": "stdout",
          "text": [
            "25\n"
          ]
        }
      ]
    },
    {
      "cell_type": "code",
      "source": [
        "r_set"
      ],
      "metadata": {
        "id": "nkIANNF0ErWv",
        "outputId": "a304dacd-5300-4904-a04c-bae1fc191906",
        "colab": {
          "base_uri": "https://localhost:8080/"
        }
      },
      "execution_count": null,
      "outputs": [
        {
          "output_type": "execute_result",
          "data": {
            "text/plain": [
              "{'경기도 고양시 덕양구': 'a',\n",
              " '경기도 고양시 일산동구': 'b',\n",
              " '경기도 고양시 일산서구': 'c',\n",
              " '경기도 광명시': 'd',\n",
              " '경기도 구리시': 'e',\n",
              " '경기도 김포시': 'f',\n",
              " '경기도 남양주시': 'g',\n",
              " '경기도 성남시 분당구': 'h',\n",
              " '경기도 성남시 수정구': 'i',\n",
              " '경기도 성남시 중원구': 'j',\n",
              " '경기도 안양시 동안구': 'k',\n",
              " '경기도 안양시 만안구': 'l',\n",
              " '경기도 양평군': 'm',\n",
              " '경기도 의정부시': 'n',\n",
              " '경기도 하남시': 'o',\n",
              " '경기도 화성시': 'p',\n",
              " '부산광역시 강서구': 'q',\n",
              " '세종특별자치시 세종시': 'r',\n",
              " '울산광역시 남구': 's',\n",
              " '울산광역시 동구': 't',\n",
              " '울산광역시 북구': 'u',\n",
              " '울산광역시 울주군': 'v',\n",
              " '울산광역시 중구': 'w',\n",
              " '전라북도 전주시 덕진구': 'x',\n",
              " '전라북도 전주시 완산구': 'y'}"
            ]
          },
          "metadata": {},
          "execution_count": 8
        }
      ]
    },
    {
      "cell_type": "code",
      "source": [
        "# car_model 한글 to ALPHABET CATEGORY\n",
        "car_ = sorted(list(set(data['car_model'])))\n",
        "\n",
        "car_set = {}\n",
        "for car, a in zip(car_, alpha):\n",
        "  car_set[car] = a\n",
        "\n",
        "car_set"
      ],
      "metadata": {
        "id": "4i5GJyR4Ggxp",
        "outputId": "c43252b6-d01a-4779-bdfd-87f8983577af",
        "colab": {
          "base_uri": "https://localhost:8080/"
        }
      },
      "execution_count": null,
      "outputs": [
        {
          "output_type": "execute_result",
          "data": {
            "text/plain": [
              "{'경형': 'a',\n",
              " '대형': 'b',\n",
              " '소형': 'c',\n",
              " '소형SUV': 'd',\n",
              " '수입': 'e',\n",
              " '승합': 'f',\n",
              " '준대형': 'g',\n",
              " '준중형': 'h',\n",
              " '준중형SUV': 'i',\n",
              " '중형': 'j',\n",
              " '중형SUV': 'k'}"
            ]
          },
          "metadata": {},
          "execution_count": 9
        }
      ]
    },
    {
      "cell_type": "code",
      "source": [
        "data['region']= data['region'].map(r_set)\n",
        "data['car_model']= data['car_model'].map(car_set)\n",
        "data.head()"
      ],
      "metadata": {
        "id": "qv4J-UDCD6gY",
        "outputId": "4aa7a0bf-9f0d-493b-f0c2-fb1691ba075c",
        "colab": {
          "base_uri": "https://localhost:8080/",
          "height": 238
        }
      },
      "execution_count": null,
      "outputs": [
        {
          "output_type": "execute_result",
          "data": {
            "text/html": [
              "<div>\n",
              "<style scoped>\n",
              "    .dataframe tbody tr th:only-of-type {\n",
              "        vertical-align: middle;\n",
              "    }\n",
              "\n",
              "    .dataframe tbody tr th {\n",
              "        vertical-align: top;\n",
              "    }\n",
              "\n",
              "    .dataframe thead th {\n",
              "        text-align: right;\n",
              "    }\n",
              "</style>\n",
              "<table border=\"1\" class=\"dataframe\">\n",
              "  <thead>\n",
              "    <tr style=\"text-align: right;\">\n",
              "      <th></th>\n",
              "      <th>region</th>\n",
              "      <th>use_total_hr</th>\n",
              "      <th>start_weekday</th>\n",
              "      <th>start_isweekend</th>\n",
              "      <th>age_group</th>\n",
              "      <th>gender</th>\n",
              "      <th>car_model</th>\n",
              "    </tr>\n",
              "    <tr>\n",
              "      <th>reservation_start_at</th>\n",
              "      <th></th>\n",
              "      <th></th>\n",
              "      <th></th>\n",
              "      <th></th>\n",
              "      <th></th>\n",
              "      <th></th>\n",
              "      <th></th>\n",
              "    </tr>\n",
              "  </thead>\n",
              "  <tbody>\n",
              "    <tr>\n",
              "      <th>2018-12-27 12:20:00+00:00</th>\n",
              "      <td>q</td>\n",
              "      <td>141.69</td>\n",
              "      <td>3</td>\n",
              "      <td>0</td>\n",
              "      <td>3</td>\n",
              "      <td>male</td>\n",
              "      <td>k</td>\n",
              "    </tr>\n",
              "    <tr>\n",
              "      <th>2018-12-27 18:00:00+00:00</th>\n",
              "      <td>b</td>\n",
              "      <td>231.75</td>\n",
              "      <td>3</td>\n",
              "      <td>0</td>\n",
              "      <td>2</td>\n",
              "      <td>female</td>\n",
              "      <td>a</td>\n",
              "    </tr>\n",
              "    <tr>\n",
              "      <th>2018-12-28 11:00:00+00:00</th>\n",
              "      <td>f</td>\n",
              "      <td>124.83</td>\n",
              "      <td>4</td>\n",
              "      <td>0</td>\n",
              "      <td>3</td>\n",
              "      <td>female</td>\n",
              "      <td>a</td>\n",
              "    </tr>\n",
              "    <tr>\n",
              "      <th>2018-12-28 14:00:00+00:00</th>\n",
              "      <td>p</td>\n",
              "      <td>104.84</td>\n",
              "      <td>4</td>\n",
              "      <td>0</td>\n",
              "      <td>2</td>\n",
              "      <td>male</td>\n",
              "      <td>d</td>\n",
              "    </tr>\n",
              "    <tr>\n",
              "      <th>2018-12-28 20:20:00+00:00</th>\n",
              "      <td>n</td>\n",
              "      <td>187.40</td>\n",
              "      <td>4</td>\n",
              "      <td>0</td>\n",
              "      <td>2</td>\n",
              "      <td>male</td>\n",
              "      <td>h</td>\n",
              "    </tr>\n",
              "  </tbody>\n",
              "</table>\n",
              "</div>"
            ],
            "text/plain": [
              "                          region  use_total_hr  ...  gender  car_model\n",
              "reservation_start_at                            ...                   \n",
              "2018-12-27 12:20:00+00:00      q        141.69  ...    male          k\n",
              "2018-12-27 18:00:00+00:00      b        231.75  ...  female          a\n",
              "2018-12-28 11:00:00+00:00      f        124.83  ...  female          a\n",
              "2018-12-28 14:00:00+00:00      p        104.84  ...    male          d\n",
              "2018-12-28 20:20:00+00:00      n        187.40  ...    male          h\n",
              "\n",
              "[5 rows x 7 columns]"
            ]
          },
          "metadata": {},
          "execution_count": 10
        }
      ]
    },
    {
      "cell_type": "code",
      "source": [
        "data_v = data.values\n",
        "categorical_index = [0, 2, 3, 4, 5, 6]"
      ],
      "metadata": {
        "id": "CgCn4Ixe3TKV"
      },
      "execution_count": null,
      "outputs": []
    },
    {
      "cell_type": "markdown",
      "source": [
        "## 2-1. Elbow Curve | Check # of clustering \n",
        "- start_weekday 있는 데이터로 진행 "
      ],
      "metadata": {
        "id": "P5Il9d-i5szb"
      }
    },
    {
      "cell_type": "code",
      "source": [
        "# Function for plotting elbow curve\n",
        "\n",
        "def plot_elbow_curve(start, end, data):\n",
        "    no_of_clusters = list(range(start, end+1))\n",
        "    cost_values = []\n",
        "    \n",
        "    for k in no_of_clusters:\n",
        "        test_model = KPrototypes(n_clusters=k, init='Huang', random_state=0)\n",
        "        test_model.fit_predict(data, categorical=categorical_index)\n",
        "        cost_values.append(test_model.cost_)\n",
        "        \n",
        "    sns.set_theme(style=\"whitegrid\", palette=\"bright\", font_scale=1.2)\n",
        "    \n",
        "    plt.figure(figsize=(15, 7))\n",
        "    ax = sns.lineplot(x=no_of_clusters, y=cost_values, marker=\"o\", dashes=False)\n",
        "    ax.set_title('Elbow curve', fontsize=18)\n",
        "    ax.set_xlabel('No of clusters', fontsize=14)\n",
        "    ax.set_ylabel('Cost', fontsize=14)\n",
        "    ax.set(xlim=(start-0.1, end+0.1))\n",
        "    plt.plot()\n",
        "\n",
        "\n",
        "# Plotting elbow curve for k=2 to k=10\n",
        "plot_elbow_curve(2,10,data_v)"
      ],
      "metadata": {
        "id": "JaffxqRc3G17"
      },
      "execution_count": null,
      "outputs": []
    },
    {
      "cell_type": "code",
      "source": [
        "plt.savefig('/content/drive/Shareddrives/Socar_QuickNap/02ML/Kprotopytes_ElbowCurve')"
      ],
      "metadata": {
        "id": "QzhekHUJW1Ud"
      },
      "execution_count": null,
      "outputs": []
    },
    {
      "cell_type": "markdown",
      "source": [
        "# 2-2. # of Cluster Test"
      ],
      "metadata": {
        "id": "mrSvpHw95eNL"
      }
    },
    {
      "cell_type": "markdown",
      "source": [
        "## 2-2-1. Test 1"
      ],
      "metadata": {
        "id": "Or5_tFnMOU5g"
      }
    },
    {
      "cell_type": "code",
      "source": [
        "kproto_1 = KPrototypes(n_clusters=4, verbose=2, max_iter=20)\n",
        "kproto_1.fit(data_v, categorical=categorical_index)"
      ],
      "metadata": {
        "id": "8_sijhwUz_s6"
      },
      "execution_count": null,
      "outputs": []
    },
    {
      "cell_type": "code",
      "source": [
        "clusters_1 = kproto_1.predict(data_v, categorical=categorical_index)"
      ],
      "metadata": {
        "id": "ItSKuX4Nz_vG"
      },
      "execution_count": null,
      "outputs": []
    },
    {
      "cell_type": "code",
      "source": [
        "data['cluster_1'] = list(clusters_1)"
      ],
      "metadata": {
        "id": "t2SXk6Dq6Ayz"
      },
      "execution_count": null,
      "outputs": []
    },
    {
      "cell_type": "code",
      "source": [
        "data.head()\n",
        "data.to_csv('/content/drive/Shareddrives/Socar_QuickNap/02ML/Kprotopytes_1.csv')"
      ],
      "metadata": {
        "id": "_OwTCT8Nub1a"
      },
      "execution_count": null,
      "outputs": []
    },
    {
      "cell_type": "markdown",
      "source": [
        "## 2-2-2. Test 2"
      ],
      "metadata": {
        "id": "Q3p45GbMOYvu"
      }
    },
    {
      "cell_type": "code",
      "source": [
        "kproto_2 = KPrototypes(n_clusters=6, verbose=2, max_iter=20)\n",
        "kproto_2.fit(data_v, categorical=categorical_index)"
      ],
      "metadata": {
        "id": "bccWzy7zOe20"
      },
      "execution_count": null,
      "outputs": []
    },
    {
      "cell_type": "code",
      "source": [
        "clusters_2 = kproto_2.predict(data_v, categorical=categorical_index)"
      ],
      "metadata": {
        "id": "TAea3ApoOe21"
      },
      "execution_count": null,
      "outputs": []
    },
    {
      "cell_type": "code",
      "source": [
        "data['cluster_2'] = list(clusters_2)"
      ],
      "metadata": {
        "id": "_HKj4UHROe21"
      },
      "execution_count": null,
      "outputs": []
    },
    {
      "cell_type": "code",
      "source": [
        "data.to_csv('/content/drive/Shareddrives/Socar_QuickNap/02ML/Kprotopytes_2.csv')"
      ],
      "metadata": {
        "id": "GQyltPuyMcfq"
      },
      "execution_count": null,
      "outputs": []
    },
    {
      "cell_type": "markdown",
      "source": [
        "## 2-2-3. Test 3"
      ],
      "metadata": {
        "id": "_03d1B_bOadH"
      }
    },
    {
      "cell_type": "code",
      "source": [
        "kproto_3 = KPrototypes(n_clusters=10, verbose=2, max_iter=20)\n",
        "kproto_3.fit(data_v, categorical=categorical_index)"
      ],
      "metadata": {
        "id": "V1nEEkRZOfg3"
      },
      "execution_count": null,
      "outputs": []
    },
    {
      "cell_type": "code",
      "source": [
        "clusters_3 = kproto_3.predict(data_v, categorical=categorical_index)"
      ],
      "metadata": {
        "id": "ZKHOkff-Ofg4"
      },
      "execution_count": null,
      "outputs": []
    },
    {
      "cell_type": "code",
      "source": [
        "data['cluster_3'] = list(clusters_3)"
      ],
      "metadata": {
        "id": "Lv3tsk9rOfg4"
      },
      "execution_count": null,
      "outputs": []
    },
    {
      "cell_type": "code",
      "source": [
        "data.head()"
      ],
      "metadata": {
        "id": "CbbT0aqB4LUY"
      },
      "execution_count": null,
      "outputs": []
    },
    {
      "cell_type": "code",
      "source": [
        "data.to_csv('/content/drive/Shareddrives/Socar_QuickNap/02ML/Kprotopytes_Fin.csv')"
      ],
      "metadata": {
        "id": "HXxEIQvP4NoI"
      },
      "execution_count": null,
      "outputs": []
    },
    {
      "cell_type": "markdown",
      "source": [
        "# 3. Cluster별 확인 "
      ],
      "metadata": {
        "id": "UN4G_HfPUFw6"
      }
    },
    {
      "cell_type": "code",
      "source": [
        "# ANOVA 확인\n",
        "from statsmodels.formula.api import ols\n",
        "from statsmodels.stats.anova import anova_lm\n",
        "\n",
        "model = ols('use_total_hr_mm ~ C(cluster_id)', data).fit()\n",
        "anova_lm(model)"
      ],
      "metadata": {
        "id": "d5MGqRp0SXFo"
      },
      "execution_count": null,
      "outputs": []
    },
    {
      "cell_type": "code",
      "source": [
        "# # 사후분석을 위한 준비\n",
        "from statsmodels.sandbox.stats.multicomp import MultiComparison\n",
        "import scipy.stats\n",
        "\n",
        "comp = MultiComparison(data.use_total_hr, data.cluster_1)\n"
      ],
      "metadata": {
        "id": "Z3HdI9zZSXJy"
      },
      "execution_count": null,
      "outputs": []
    },
    {
      "cell_type": "code",
      "source": [
        "result = comp.allpairtest(scipy.stats.ttest_ind, method='bonf')\n",
        "result[0]"
      ],
      "metadata": {
        "id": "-09Uod0GMtnI"
      },
      "execution_count": null,
      "outputs": []
    },
    {
      "cell_type": "code",
      "source": [
        "from statsmodels.stats.multicomp import pairwise_tukeyhsd\n",
        "\n",
        "hsd = pairwise_tukeyhsd(data['use_total_hr'], data['cluster_1'], alpha=0.05)\n",
        "hsd.summary()"
      ],
      "metadata": {
        "id": "WsfAbVkjNZgO"
      },
      "execution_count": null,
      "outputs": []
    },
    {
      "cell_type": "markdown",
      "source": [
        "# 4. 예측 진행 "
      ],
      "metadata": {
        "id": "tVLzOiNMO0Dd"
      }
    },
    {
      "cell_type": "code",
      "source": [
        "# car_model onehot으로 분리시킨 데이터 들고와서 cluster 정보 취합하기 "
      ],
      "metadata": {
        "id": "b8JY7cnIs3AP"
      },
      "execution_count": null,
      "outputs": []
    },
    {
      "cell_type": "markdown",
      "source": [
        "## 4-1. VAR | Multivariable Time Series"
      ],
      "metadata": {
        "id": "qbXB9OulPKpU"
      }
    },
    {
      "cell_type": "code",
      "source": [
        "import numpy as np \n",
        "import pandas as pd\n",
        "import matplotlib.pyplot as plt\n",
        "from matplotlib.pylab import rcParams\n",
        "# plt.style.use(['fivethirtyeight'])\n",
        "# plt.style.use(['bmh'])\n",
        "\n",
        "import os \n",
        "from pathlib import Path\n",
        "\n",
        "import warnings\n",
        "warnings.filterwarnings('ignore')\n",
        "\n",
        "from statsmodels.tsa.stattools import adfuller # stationary 확인 \n",
        "from statsmodels.tsa.seasonal import seasonal_decompose # decomposition\n",
        "\n",
        "from statsmodels.graphics.tsaplots import plot_acf, plot_pacf\n",
        "import statsmodels.graphics.tsaplots as sgt \n",
        "\n",
        "from statsmodels.tsa.arima_model import ARIMA\n",
        "# from pmdarima.arima import auto_arima # ARIMA parameter auto 확인 \n",
        "from statsmodels.tsa.statespace.sarimax import SARIMAX\n",
        "\n",
        "from sklearn.metrics import mean_squared_error, mean_absolute_error\n",
        "import math "
      ],
      "metadata": {
        "id": "oyTMlu9kO7cW"
      },
      "execution_count": null,
      "outputs": []
    },
    {
      "cell_type": "markdown",
      "source": [
        "### 4-1-1. interpolate(method = 'time')"
      ],
      "metadata": {
        "id": "JC0cnn39RMES"
      }
    },
    {
      "cell_type": "code",
      "source": [
        "data_m = data.interpolate(method = 'time')\n",
        "data_m.isnull().sum()"
      ],
      "metadata": {
        "id": "8ya0_n7PRqo_"
      },
      "execution_count": null,
      "outputs": []
    },
    {
      "cell_type": "code",
      "source": [
        "rcParams['figure.figsize'] = 10, 5\n",
        "plt.plot(data_m['count'], color = 'tab:blue', label = 'count')\n",
        "plt.legend(loc = 'best')\n",
        "plt.show()"
      ],
      "metadata": {
        "id": "snUzG5GQO7fg"
      },
      "execution_count": null,
      "outputs": []
    },
    {
      "cell_type": "code",
      "source": [
        "def plot_rolling_data(data, window = 4*24*7): # 일주일 window \n",
        "    rollmean = data.rolling(window = window).mean()\n",
        "    rollstd = data.rolling(window = window).std()\n",
        "    print(rollstd.count())\n",
        "    # 구간별 평균, 표준편차, original 값 확인하기 위해 plotting\n",
        "    orig = plt.plot(data, color = 'tab:blue', label = 'orig')\n",
        "    avg = plt.plot(rollmean, color = 'tab:green', label = 'avg')\n",
        "    std = plt.plot(rollstd, color = 'tab:orange', label = 'std')\n",
        "    plt.legend(loc = 'count')\n",
        "    plt.title('Rolling Count_Orig, Avg, Std')\n",
        "    plt.show()"
      ],
      "metadata": {
        "id": "dDFqO7RuSa1j"
      },
      "execution_count": null,
      "outputs": []
    },
    {
      "cell_type": "code",
      "source": [
        "# ADF | 최소 lag\n",
        "def augmented_dickey_fuller(data):\n",
        "    adfuller_test = adfuller(data, autolag = 'AIC') # 최소 lag 찾음\n",
        "    adfuller_test_output = pd.Series(adfuller_test[:4], \n",
        "                            index = ['test_statistic', 'pvalue', 'num_of_lags', 'num_of_observation'])\n",
        "    for key, value in adfuller_test[4].items():\n",
        "        adfuller_test_output['critical_values (%s)' %key] = value\n",
        "    print(adfuller_test_output)"
      ],
      "metadata": {
        "id": "ZhMiudrJTab9"
      },
      "execution_count": null,
      "outputs": []
    },
    {
      "cell_type": "code",
      "source": [
        "# ADF | 최대 lag\n",
        "def augmented_dickey_fuller_2(data):\n",
        "    adfuller_test = adfuller(data, autolag = 't-stat') # 최대 lag 찾음\n",
        "    adfuller_test_output = pd.Series(adfuller_test[:4], \n",
        "                            index = ['test_statistic', 'pvalue', 'num_of_lags', 'num_of_observation'])\n",
        "    for key, value in adfuller_test[4].items():\n",
        "        adfuller_test_output['critical_values (%s)' %key] = value\n",
        "    print(adfuller_test_output)"
      ],
      "metadata": {
        "id": "bT9A0vYqr26-"
      },
      "execution_count": null,
      "outputs": []
    },
    {
      "cell_type": "markdown",
      "source": [
        "pvalue 0.05 이상이면 stationary하다는 귀무가설 기각 불가, 즉 unstationary하다는 것 "
      ],
      "metadata": {
        "id": "a7C6VoRfsGCp"
      }
    },
    {
      "cell_type": "code",
      "source": [
        "# np.log를 사용하여 데이터 로그화 진행 \n",
        "ts_log = np.log(data)\n",
        "\n",
        "# original data와 np.log화 시킨 데이터 plot\n",
        "fig, ax1 = plt.subplots()\n",
        "ax1.plot(ts_log, color = 'tab:blue', label = 'ts_log')\n",
        "\n",
        "ax2 = ax1.twinx()\n",
        "ax2.plot(ts, color = 'tab:green', label = 'ts')\n",
        "plt.legend(loc = 'best')\n",
        "plt.grid(False)\n",
        "plt.show()\n"
      ],
      "metadata": {
        "id": "kZN02Bwpssp_"
      },
      "execution_count": null,
      "outputs": []
    },
    {
      "cell_type": "markdown",
      "source": [
        "Decomposition"
      ],
      "metadata": {
        "id": "ppIP55RJtIlf"
      }
    },
    {
      "cell_type": "code",
      "source": [
        "# period = 4*24*7로 일주일 간격으로 진행함 \n",
        "# 시간폭에 따라 변화가 존재하기 때문에 multiplicative로 진행 \n",
        "decomposition = seasonal_decompose(ts_log, model = 'multiplicative', \n",
        "                                    period = 4*24*7)\n",
        "trend = decomposition.trend\n",
        "seasonal = decomposition.seasonal\n",
        "residual = decomposition.resid # original - trend - seasonal\n",
        "\n",
        "plt.rcParams['figure.figsize'] = (10, 6)\n",
        "plt.subplot(411)\n",
        "plt.plot(ts_log, label = 'Original')\n",
        "plt.legend(loc = 'best')\n",
        "plt.subplot(412)\n",
        "plt.plot(trend, label = 'Trend')\n",
        "plt.legend(loc = 'best')\n",
        "plt.subplot(413)\n",
        "plt.plot(seasonal, label = 'Seasonality')\n",
        "plt.legend(loc = 'best')\n",
        "plt.subplot(414)\n",
        "plt.plot(residual, label = 'Residuals')\n",
        "plt.legend(loc = 'best')\n",
        "plt.tight_layout()\n",
        "plt.show()"
      ],
      "metadata": {
        "id": "9N3NCY8ttHDt"
      },
      "execution_count": null,
      "outputs": []
    },
    {
      "cell_type": "markdown",
      "source": [
        "Null값 처리 \n",
        "- decomposition period만큼 앞에 데이터가 Null로 사라짐 "
      ],
      "metadata": {
        "id": "2eH9p1Wot5T1"
      }
    },
    {
      "cell_type": "code",
      "source": [
        "# null 값 처리 \n",
        "residual.dropna(inplace = True)\n",
        "augmented_dickey_fuller(residual)"
      ],
      "metadata": {
        "id": "vW0df1t5t4t8"
      },
      "execution_count": null,
      "outputs": []
    },
    {
      "cell_type": "code",
      "source": [
        "plt.rcParams['figure.figsize'] = 10, 5\n",
        "\n",
        "plot_rolling_data(residual, window = 4*24*7) "
      ],
      "metadata": {
        "id": "QyP6OTpCuE4E"
      },
      "execution_count": null,
      "outputs": []
    },
    {
      "cell_type": "markdown",
      "source": [
        "Train & Test 분리 \n",
        "- validation set도 설정해야하나 "
      ],
      "metadata": {
        "id": "tYJDGgiBuNoM"
      }
    },
    {
      "cell_type": "code",
      "source": [
        "train, test = ts_log[:int(len(ts_log)*0.9)], ts_log[int(len(ts_log)*0.9):]"
      ],
      "metadata": {
        "id": "EJhSg9E6uNvN"
      },
      "execution_count": null,
      "outputs": []
    },
    {
      "cell_type": "markdown",
      "source": [
        "### 4-1-2. interpolate(method = 'time') 없이 진행 "
      ],
      "metadata": {
        "id": "HWOEbukvRQEZ"
      }
    },
    {
      "cell_type": "code",
      "source": [
        ""
      ],
      "metadata": {
        "id": "sh_KRnldO7gn"
      },
      "execution_count": null,
      "outputs": []
    },
    {
      "cell_type": "code",
      "source": [
        ""
      ],
      "metadata": {
        "id": "AIiArsSlO7iq"
      },
      "execution_count": null,
      "outputs": []
    },
    {
      "cell_type": "code",
      "source": [
        ""
      ],
      "metadata": {
        "id": "YI2tcKShO7kS"
      },
      "execution_count": null,
      "outputs": []
    },
    {
      "cell_type": "markdown",
      "source": [
        "# 5. "
      ],
      "metadata": {
        "id": "h5pgp4GuO5u1"
      }
    },
    {
      "cell_type": "code",
      "source": [
        ""
      ],
      "metadata": {
        "id": "_U_5pacRz_4Q"
      },
      "execution_count": null,
      "outputs": []
    },
    {
      "cell_type": "code",
      "source": [
        ""
      ],
      "metadata": {
        "id": "2g9JlAEKz_82"
      },
      "execution_count": null,
      "outputs": []
    }
  ]
}