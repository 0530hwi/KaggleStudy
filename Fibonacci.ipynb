{
  "nbformat": 4,
  "nbformat_minor": 0,
  "metadata": {
    "colab": {
      "name": "Fibonacci.ipynb",
      "provenance": [],
      "authorship_tag": "ABX9TyPB5eqHuNy8mEEG7FBW8zjN",
      "include_colab_link": true
    },
    "kernelspec": {
      "name": "python3",
      "display_name": "Python 3"
    },
    "language_info": {
      "name": "python"
    }
  },
  "cells": [
    {
      "cell_type": "markdown",
      "metadata": {
        "id": "view-in-github",
        "colab_type": "text"
      },
      "source": [
        "<a href=\"https://colab.research.google.com/github/0530hwi/KaggleStudy/blob/main/Fibonacci.ipynb\" target=\"_parent\"><img src=\"https://colab.research.google.com/assets/colab-badge.svg\" alt=\"Open In Colab\"/></a>"
      ]
    },
    {
      "cell_type": "markdown",
      "metadata": {
        "id": "PX7yoEOG8k0P"
      },
      "source": [
        "# 피보나치 수열\n",
        "\n",
        "* n번째 수는 n-1번째 수와 n-2번째 피보나치의 합"
      ]
    },
    {
      "cell_type": "code",
      "metadata": {
        "id": "kS4ZHo2w8XY-"
      },
      "source": [
        "def fibonacci(n):\n",
        "    if n <= 2:\n",
        "        number = 1\n",
        "    else:\n",
        "        number = fibonacci(n-1) + fibonacci(n-2)\n",
        "    return number"
      ],
      "execution_count": null,
      "outputs": []
    },
    {
      "cell_type": "code",
      "metadata": {
        "colab": {
          "base_uri": "https://localhost:8080/"
        },
        "id": "jTbOFmV38iCb",
        "outputId": "c86b895d-1273-4025-9e95-a7fe1c819785"
      },
      "source": [
        "print(fibonacci(20))"
      ],
      "execution_count": null,
      "outputs": [
        {
          "output_type": "stream",
          "text": [
            "6765\n"
          ],
          "name": "stdout"
        }
      ]
    },
    {
      "cell_type": "markdown",
      "metadata": {
        "id": "xXS5q8mZ9Tlf"
      },
      "source": [
        "## 메모이제이션(memoization)\n",
        "\n",
        "* 중간 계산값을 기억해놓고, 다시 계산하는 방법"
      ]
    },
    {
      "cell_type": "code",
      "metadata": {
        "id": "mzuVnqvG9WCk"
      },
      "source": [
        "memory = {1: 1, 2: 1}\n",
        "\n",
        "def fibonacci(n):\n",
        "    if n in memory:\n",
        "        number = memory[n]\n",
        "    else:\n",
        "        number = fibonacci(n-1) + fibonacci(n-2)\n",
        "        memory[n] = number\n",
        "    return number"
      ],
      "execution_count": null,
      "outputs": []
    }
  ]
}